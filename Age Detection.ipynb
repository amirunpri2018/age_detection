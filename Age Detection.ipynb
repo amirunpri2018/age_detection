{
 "cells": [
  {
   "cell_type": "code",
   "execution_count": 1,
   "metadata": {},
   "outputs": [
    {
     "name": "stdout",
     "output_type": "stream",
     "text": [
      "Populating the interactive namespace from numpy and matplotlib\n"
     ]
    },
    {
     "name": "stderr",
     "output_type": "stream",
     "text": [
      "Using TensorFlow backend.\n"
     ]
    }
   ],
   "source": [
    "% pylab inline\n",
    "import os\n",
    "import random\n",
    "\n",
    "import pandas as pd\n",
    "from scipy.misc import imread\n",
    "from keras.models import Sequential\n",
    "from keras.layers import Dense, Flatten, InputLayer, Conv2D, MaxPooling2D"
   ]
  },
  {
   "cell_type": "code",
   "execution_count": 2,
   "metadata": {
    "collapsed": true
   },
   "outputs": [],
   "source": [
    "root_dir = os.path.abspath('.')\n",
    "data_dir = 'C:/Users/ankit/Desktop/Pyprojects'\n",
    "\n",
    "train = pd.read_csv(os.path.join(data_dir, 'train.csv'))\n",
    "test = pd.read_csv(os.path.join(data_dir, 'test.csv'))"
   ]
  },
  {
   "cell_type": "code",
   "execution_count": 3,
   "metadata": {},
   "outputs": [
    {
     "name": "stdout",
     "output_type": "stream",
     "text": [
      "Age:  MIDDLE\n"
     ]
    },
    {
     "data": {
      "text/plain": [
       "<matplotlib.image.AxesImage at 0x18390d30f28>"
      ]
     },
     "execution_count": 3,
     "metadata": {},
     "output_type": "execute_result"
    },
    {
     "data": {
      "image/png": "[encoded data removed]",
      "text/plain": [
       "<matplotlib.figure.Figure at 0x18390c1a278>"
      ]
     },
     "metadata": {},
     "output_type": "display_data"
    }
   ],
   "source": [
    "i = random.choice(train.index)\n",
    "\n",
    "img_name = train.ID[i]\n",
    "img = imread(os.path.join(data_dir, 'Train', img_name))\n",
    "\n",
    "print('Age: ', train.Class[i])\n",
    "imshow(img)\n"
   ]
  },
  {
   "cell_type": "code",
   "execution_count": 4,
   "metadata": {
    "collapsed": true
   },
   "outputs": [],
   "source": [
    "from scipy.misc import imresize\n",
    "x = []\n",
    "temp = []\n",
    "for img_name in train.ID:\n",
    "    img_path = os.path.join(data_dir, 'Train', img_name)\n",
    "    img = imread(img_path)\n",
    "    x.append(img.shape[0])\n",
    "    img = imresize(img, (64, 64))\n",
    "    img = img.astype('float32') # this will help us in later stage\n",
    "    temp.append(img)\n",
    "\n",
    "train_x = np.stack(temp)"
   ]
  },
  {
   "cell_type": "code",
   "execution_count": 5,
   "metadata": {
    "collapsed": true
   },
   "outputs": [],
   "source": [
    "temp = []\n",
    "for img_name in test.ID:\n",
    "    img_path = os.path.join(data_dir, 'Test', img_name)\n",
    "    img = imread(img_path)\n",
    "    x.append(img.shape[0])\n",
    "    img = imresize(img, (64, 64))\n",
    "    temp.append(img.astype('float32'))\n",
    "\n",
    "test_x = np.stack(temp)"
   ]
  },
  {
   "cell_type": "code",
   "execution_count": 6,
   "metadata": {},
   "outputs": [
    {
     "data": {
      "text/plain": [
       "97.0"
      ]
     },
     "execution_count": 6,
     "metadata": {},
     "output_type": "execute_result"
    }
   ],
   "source": [
    "median(x)"
   ]
  },
  {
   "cell_type": "code",
   "execution_count": 7,
   "metadata": {
    "collapsed": true
   },
   "outputs": [],
   "source": [
    "train_x.shape\n",
    "train_x = train_x / 255.\n",
    "test_x = test_x / 255."
   ]
  },
  {
   "cell_type": "code",
   "execution_count": 8,
   "metadata": {},
   "outputs": [
    {
     "data": {
      "text/plain": [
       "(19906, 64, 64, 3)"
      ]
     },
     "execution_count": 8,
     "metadata": {},
     "output_type": "execute_result"
    }
   ],
   "source": [
    "train_x.shape"
   ]
  },
  {
   "cell_type": "code",
   "execution_count": 9,
   "metadata": {},
   "outputs": [
    {
     "data": {
      "text/plain": [
       "MIDDLE    0.542751\n",
       "YOUNG     0.336883\n",
       "OLD       0.120366\n",
       "Name: Class, dtype: float64"
      ]
     },
     "execution_count": 9,
     "metadata": {},
     "output_type": "execute_result"
    }
   ],
   "source": [
    "train.Class.value_counts(normalize=True)"
   ]
  },
  {
   "cell_type": "code",
   "execution_count": 10,
   "metadata": {
    "collapsed": true
   },
   "outputs": [],
   "source": [
    "test['Class'] = 'MIDDLE'\n",
    "test.to_csv('C:/Users/ankit/Desktop/Pyprojects/all_middle.csv', index=False)"
   ]
  },
  {
   "cell_type": "code",
   "execution_count": 11,
   "metadata": {
    "collapsed": true
   },
   "outputs": [],
   "source": [
    "import keras\n",
    "from sklearn.preprocessing import LabelEncoder\n",
    "\n",
    "lb = LabelEncoder()\n",
    "train_y = lb.fit_transform(train.Class)\n",
    "train_y = keras.utils.np_utils.to_categorical(train_y)"
   ]
  },
  {
   "cell_type": "code",
   "execution_count": 12,
   "metadata": {
    "collapsed": true
   },
   "outputs": [],
   "source": [
    "input_num_units = (64, 64, 3)\n",
    "#hidden_num_units = 500\n",
    "output_num_units = 3\n",
    "epochs = 10\n",
    "batch_size = 128"
   ]
  },
  {
   "cell_type": "code",
   "execution_count": 13,
   "metadata": {
    "collapsed": true
   },
   "outputs": [],
   "source": [
    "from keras.layers import Dropout\n",
    "pool_size = (2,2)\n",
    "model = Sequential([\n",
    " InputLayer(input_shape=input_num_units),\n",
    "\n",
    " Conv2D(64, (3, 3), activation='relu'),\n",
    " MaxPooling2D(pool_size=pool_size),\n",
    " Dropout(0.25),\n",
    "    \n",
    " Conv2D(64, (3, 3), activation='relu'),\n",
    " MaxPooling2D(pool_size=pool_size),\n",
    " Dropout(0.25),\n",
    "    \n",
    " Conv2D(64, (3, 3), activation='relu'),\n",
    " MaxPooling2D(pool_size=pool_size),\n",
    " Dropout(0.25),       \n",
    " #Conv2D(256, (2, 2), activation='relu'),\n",
    " #Dropout(0.25),\n",
    " Flatten(),\n",
    " Dense(units=512, activation='relu'),\n",
    " Dropout(0.5),\n",
    " Dense(units=output_num_units, activation='softmax'),\n",
    "])"
   ]
  },
  {
   "cell_type": "code",
   "execution_count": 14,
   "metadata": {},
   "outputs": [
    {
     "name": "stdout",
     "output_type": "stream",
     "text": [
      "_________________________________________________________________\n",
      "Layer (type)                 Output Shape              Param #   \n",
      "=================================================================\n",
      "input_1 (InputLayer)         (None, 64, 64, 3)         0         \n",
      "_________________________________________________________________\n",
      "conv2d_1 (Conv2D)            (None, 62, 62, 64)        1792      \n",
      "_________________________________________________________________\n",
      "max_pooling2d_1 (MaxPooling2 (None, 31, 31, 64)        0         \n",
      "_________________________________________________________________\n",
      "dropout_1 (Dropout)          (None, 31, 31, 64)        0         \n",
      "_________________________________________________________________\n",
      "conv2d_2 (Conv2D)            (None, 29, 29, 64)        36928     \n",
      "_________________________________________________________________\n",
      "max_pooling2d_2 (MaxPooling2 (None, 14, 14, 64)        0         \n",
      "_________________________________________________________________\n",
      "dropout_2 (Dropout)          (None, 14, 14, 64)        0         \n",
      "_________________________________________________________________\n",
      "conv2d_3 (Conv2D)            (None, 12, 12, 64)        36928     \n",
      "_________________________________________________________________\n",
      "max_pooling2d_3 (MaxPooling2 (None, 6, 6, 64)          0         \n",
      "_________________________________________________________________\n",
      "dropout_3 (Dropout)          (None, 6, 6, 64)          0         \n",
      "_________________________________________________________________\n",
      "flatten_1 (Flatten)          (None, 2304)              0         \n",
      "_________________________________________________________________\n",
      "dense_1 (Dense)              (None, 512)               1180160   \n",
      "_________________________________________________________________\n",
      "dropout_4 (Dropout)          (None, 512)               0         \n",
      "_________________________________________________________________\n",
      "dense_2 (Dense)              (None, 3)                 1539      \n",
      "=================================================================\n",
      "Total params: 1,257,347\n",
      "Trainable params: 1,257,347\n",
      "Non-trainable params: 0\n",
      "_________________________________________________________________\n"
     ]
    }
   ],
   "source": [
    "model.summary()"
   ]
  },
  {
   "cell_type": "code",
   "execution_count": 18,
   "metadata": {},
   "outputs": [
    {
     "name": "stdout",
     "output_type": "stream",
     "text": [
      "Train on 14929 samples, validate on 4977 samples\n",
      "Epoch 1/20\n",
      "14929/14929 [==============================] - 12s - loss: 0.1036 - acc: 0.9633 - val_loss: 0.7180 - val_acc: 0.8252\n",
      "Epoch 2/20\n",
      "14929/14929 [==============================] - 11s - loss: 0.1017 - acc: 0.9615 - val_loss: 0.7144 - val_acc: 0.8198\n",
      "Epoch 3/20\n",
      "14929/14929 [==============================] - 11s - loss: 0.1047 - acc: 0.9633 - val_loss: 0.7294 - val_acc: 0.8230\n",
      "Epoch 4/20\n",
      "14929/14929 [==============================] - 11s - loss: 0.1107 - acc: 0.9592 - val_loss: 0.6645 - val_acc: 0.8280\n",
      "Epoch 5/20\n",
      "14929/14929 [==============================] - 11s - loss: 0.0956 - acc: 0.9659 - val_loss: 0.7152 - val_acc: 0.8228\n",
      "Epoch 6/20\n",
      "14929/14929 [==============================] - 11s - loss: 0.1033 - acc: 0.9616 - val_loss: 0.6759 - val_acc: 0.8226\n",
      "Epoch 7/20\n",
      "14929/14929 [==============================] - 11s - loss: 0.0970 - acc: 0.9638 - val_loss: 0.6532 - val_acc: 0.8246\n",
      "Epoch 8/20\n",
      "14929/14929 [==============================] - 11s - loss: 0.0926 - acc: 0.9664 - val_loss: 0.6744 - val_acc: 0.8280\n",
      "Epoch 9/20\n",
      "14929/14929 [==============================] - 11s - loss: 0.1042 - acc: 0.9640 - val_loss: 0.7196 - val_acc: 0.8186\n",
      "Epoch 10/20\n",
      "14929/14929 [==============================] - 11s - loss: 0.0950 - acc: 0.9650 - val_loss: 0.7104 - val_acc: 0.8280\n",
      "Epoch 11/20\n",
      "14929/14929 [==============================] - 11s - loss: 0.0944 - acc: 0.9645 - val_loss: 0.6538 - val_acc: 0.8270\n",
      "Epoch 12/20\n",
      "14929/14929 [==============================] - 11s - loss: 0.1013 - acc: 0.9635 - val_loss: 0.6862 - val_acc: 0.8304\n",
      "Epoch 13/20\n",
      "14929/14929 [==============================] - 11s - loss: 0.0955 - acc: 0.9658 - val_loss: 0.6821 - val_acc: 0.8296\n",
      "Epoch 14/20\n",
      "14929/14929 [==============================] - 11s - loss: 0.0916 - acc: 0.9668 - val_loss: 0.6837 - val_acc: 0.8222\n",
      "Epoch 15/20\n",
      "14929/14929 [==============================] - 11s - loss: 0.0863 - acc: 0.9699 - val_loss: 0.7090 - val_acc: 0.8292\n",
      "Epoch 16/20\n",
      "14929/14929 [==============================] - 11s - loss: 0.0918 - acc: 0.9664 - val_loss: 0.7018 - val_acc: 0.8296\n",
      "Epoch 17/20\n",
      "14929/14929 [==============================] - 11s - loss: 0.0911 - acc: 0.9670 - val_loss: 0.7072 - val_acc: 0.8214\n",
      "Epoch 18/20\n",
      "14929/14929 [==============================] - 11s - loss: 0.1006 - acc: 0.9644 - val_loss: 0.6559 - val_acc: 0.8270\n",
      "Epoch 19/20\n",
      "14929/14929 [==============================] - 11s - loss: 0.0823 - acc: 0.9696 - val_loss: 0.6950 - val_acc: 0.8274\n",
      "Epoch 20/20\n",
      "14929/14929 [==============================] - 11s - loss: 0.0982 - acc: 0.9669 - val_loss: 0.6993 - val_acc: 0.8294\n"
     ]
    },
    {
     "data": {
      "text/plain": [
       "<keras.callbacks.History at 0x18419bd9588>"
      ]
     },
     "execution_count": 18,
     "metadata": {},
     "output_type": "execute_result"
    }
   ],
   "source": [
    "seed(128)\n",
    "from keras import metrics\n",
    "model.compile(loss='categorical_crossentropy', optimizer='adam', metrics=['accuracy'])\n",
    "model.fit(train_x, train_y, batch_size=batch_size,epochs=20,verbose=1, validation_split=0.25)"
   ]
  },
  {
   "cell_type": "code",
   "execution_count": 19,
   "metadata": {},
   "outputs": [
    {
     "name": "stdout",
     "output_type": "stream",
     "text": [
      "6560/6636 [============================>.] - ETA: 0s"
     ]
    }
   ],
   "source": [
    "pred = model.predict_classes(test_x)\n",
    "pred = lb.inverse_transform(pred)\n",
    "\n",
    "test['Class'] = pred\n",
    "test.to_csv('C:/Users/ankit/Desktop/Pyprojects/cnn_extra_dense_cnndropout_epc_55.csv', index=False)"
   ]
  }
 ],
 "metadata": {
  "kernelspec": {
   "display_name": "Python 3",
   "language": "python",
   "name": "python3"
  },
  "language_info": {
   "codemirror_mode": {
    "name": "ipython",
    "version": 3
   },
   "file_extension": ".py",
   "mimetype": "text/x-python",
   "name": "python",
   "nbconvert_exporter": "python",
   "pygments_lexer": "ipython3",
   "version": "3.6.1"
  }
 },
 "nbformat": 4,
 "nbformat_minor": 2
}
